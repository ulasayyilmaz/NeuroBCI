{
 "cells": [
  {
   "cell_type": "code",
   "execution_count": 69,
   "metadata": {},
   "outputs": [],
   "source": [
    "import pandas as pd\n",
    "import numpy as np\n",
    "from sklearn.model_selection import train_test_split\n",
    "from sklearn.preprocessing import LabelEncoder\n",
    "from keras.models import Sequential\n",
    "from keras.layers import Conv1D, MaxPooling1D, Flatten, Dense\n",
    "from keras.utils import to_categorical"
   ]
  },
  {
   "cell_type": "code",
   "execution_count": 70,
   "metadata": {},
   "outputs": [],
   "source": [
    "# Load data from CSV files\n",
    "file1 = pd.read_csv('labeled-data02.csv')\n",
    "file2 = pd.read_csv('labeledtestdata.csv')\n",
    "\n",
    "file2['label'] = file2['label'].str.upper()\n",
    "file1 = file1[(file1['label'] != 'Done')]\n",
    "# Assuming your CSV files have columns for features and labels\n",
    "# Extract features and labels\n",
    "X_train = file1.drop('label', axis=1)  \n",
    "y_train = file1['label']\n",
    "X_test = file2.drop('label', axis=1)\n",
    "y_test = file2['label']"
   ]
  },
  {
   "cell_type": "code",
   "execution_count": 71,
   "metadata": {},
   "outputs": [],
   "source": [
    "# Encode labels\n",
    "label_encoder = LabelEncoder()\n",
    "y_train = label_encoder.fit_transform(y_train)\n",
    "y_test = label_encoder.transform(y_test)"
   ]
  },
  {
   "cell_type": "code",
   "execution_count": 72,
   "metadata": {},
   "outputs": [],
   "source": [
    "\n",
    "# Reshape the data for Conv1D layer\n",
    "X_train = X_train.values.reshape(X_train.shape[0], X_train.shape[1], 1)\n",
    "X_test = X_test.values.reshape(X_test.shape[0], X_test.shape[1], 1)"
   ]
  },
  {
   "cell_type": "code",
   "execution_count": 73,
   "metadata": {},
   "outputs": [
    {
     "name": "stdout",
     "output_type": "stream",
     "text": [
      "[0 1 2]\n",
      "[0 1 2]\n"
     ]
    }
   ],
   "source": [
    "print(np.unique(y_train))\n",
    "print(np.unique(y_test))\n",
    "\n",
    "# One-hot encode labels\n",
    "y_train = to_categorical(y_train, num_classes=3)\n",
    "y_test = to_categorical(y_test, num_classes=3)\n",
    "\n",
    "# Split training data into training and validation sets\n",
    "X_train, X_val, y_train, y_val = train_test_split(X_train, y_train, test_size=0.2, random_state=42)"
   ]
  },
  {
   "cell_type": "code",
   "execution_count": 74,
   "metadata": {},
   "outputs": [],
   "source": [
    "# Split training data into training and validation sets\n",
    "X_train, X_val, y_train, y_val = train_test_split(X_train, y_train, test_size=0.2, random_state=42)"
   ]
  },
  {
   "cell_type": "code",
   "execution_count": 75,
   "metadata": {},
   "outputs": [],
   "source": [
    "# Build the model with Conv1D\n",
    "model = Sequential()\n",
    "model.add(Conv1D(64, kernel_size=3, activation='relu', input_shape=(X_train.shape[1], 1)))\n",
    "model.add(MaxPooling1D(pool_size=2))\n",
    "model.add(Flatten())\n",
    "model.add(Dense(64, activation='relu'))\n",
    "model.add(Dense(3, activation='softmax'))"
   ]
  },
  {
   "cell_type": "code",
   "execution_count": 76,
   "metadata": {},
   "outputs": [
    {
     "name": "stdout",
     "output_type": "stream",
     "text": [
      "Epoch 1/10\n",
      "27/27 [==============================] - 0s 5ms/step - loss: 8.1252 - accuracy: 0.3704 - val_loss: 2.6887 - val_accuracy: 0.4375\n",
      "Epoch 2/10\n",
      "27/27 [==============================] - 0s 1ms/step - loss: 1.8857 - accuracy: 0.4178 - val_loss: 1.6472 - val_accuracy: 0.5000\n",
      "Epoch 3/10\n",
      "27/27 [==============================] - 0s 1ms/step - loss: 1.5509 - accuracy: 0.4456 - val_loss: 1.6689 - val_accuracy: 0.3125\n",
      "Epoch 4/10\n",
      "27/27 [==============================] - 0s 1ms/step - loss: 1.3585 - accuracy: 0.4850 - val_loss: 1.2083 - val_accuracy: 0.5104\n",
      "Epoch 5/10\n",
      "27/27 [==============================] - 0s 1ms/step - loss: 1.2205 - accuracy: 0.5208 - val_loss: 1.3873 - val_accuracy: 0.5208\n",
      "Epoch 6/10\n",
      "27/27 [==============================] - 0s 1ms/step - loss: 1.1274 - accuracy: 0.5208 - val_loss: 1.1004 - val_accuracy: 0.5104\n",
      "Epoch 7/10\n",
      "27/27 [==============================] - 0s 1ms/step - loss: 1.1053 - accuracy: 0.5289 - val_loss: 1.2807 - val_accuracy: 0.5208\n",
      "Epoch 8/10\n",
      "27/27 [==============================] - 0s 1ms/step - loss: 1.1169 - accuracy: 0.5347 - val_loss: 1.2645 - val_accuracy: 0.4479\n",
      "Epoch 9/10\n",
      "27/27 [==============================] - 0s 2ms/step - loss: 1.2096 - accuracy: 0.5185 - val_loss: 1.2501 - val_accuracy: 0.5208\n",
      "Epoch 10/10\n",
      "27/27 [==============================] - 0s 2ms/step - loss: 1.2957 - accuracy: 0.5023 - val_loss: 1.1909 - val_accuracy: 0.5104\n",
      "10/10 [==============================] - 0s 913us/step - loss: 7.4795 - accuracy: 0.4230\n",
      "Test Accuracy: 0.4229508340358734\n"
     ]
    }
   ],
   "source": [
    "# Compile the model\n",
    "model.compile(optimizer='adam', loss='categorical_crossentropy', metrics=['accuracy'])\n",
    "\n",
    "# Train the model\n",
    "model.fit(X_train, y_train, epochs=10, batch_size=32, validation_split=0.1)\n",
    "\n",
    "# Evaluate the model on the test set\n",
    "test_loss, test_accuracy = model.evaluate(X_test, y_test)\n",
    "print(f'Test Accuracy: {test_accuracy}')"
   ]
  }
 ],
 "metadata": {
  "kernelspec": {
   "display_name": "Python 3.9.6 64-bit",
   "language": "python",
   "name": "python3"
  },
  "language_info": {
   "codemirror_mode": {
    "name": "ipython",
    "version": 3
   },
   "file_extension": ".py",
   "mimetype": "text/x-python",
   "name": "python",
   "nbconvert_exporter": "python",
   "pygments_lexer": "ipython3",
   "version": "3.9.6"
  },
  "orig_nbformat": 4,
  "vscode": {
   "interpreter": {
    "hash": "31f2aee4e71d21fbe5cf8b01ff0e069b9275f58929596ceb00d14d90e3e16cd6"
   }
  }
 },
 "nbformat": 4,
 "nbformat_minor": 2
}
